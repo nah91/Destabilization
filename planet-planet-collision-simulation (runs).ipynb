{
 "cells": [
  {
   "cell_type": "code",
   "execution_count": 284,
   "metadata": {
    "collapsed": true
   },
   "outputs": [],
   "source": [
    "%matplotlib inline\n",
    "import matplotlib.pyplot as plt\n",
    "from matplotlib import animation\n",
    "import numpy as np\n",
    "import scipy\n",
    "from scipy.integrate import odeint"
   ]
  },
  {
   "cell_type": "code",
   "execution_count": 311,
   "metadata": {
    "collapsed": false,
    "scrolled": true
   },
   "outputs": [
    {
     "name": "stdout",
     "output_type": "stream",
     "text": [
      "mass of asteroid: 5.972e+24 kg\n",
      "velocity of asteroid: 1.991235945350545e-07 m/s\n",
      "Energy of Earth's orbit: -118395514819.07451\n",
      "Kinetic energy of Asteroid: 10102332.8069\n",
      "0.232456965 0.38703834\n"
     ]
    }
   ],
   "source": [
    "### Define constants:\n",
    "m_to_au = 6.6846*10**(-12)   # au per meter           [conversion factor for distances]\n",
    "G = (6.67408*10**(-11))*m_to_au**3   # au**3 / (kg * s**2)     [Gravitational constant]\n",
    "T_Mercury = 7.603 * 10**6    # seconds                [seconds per Mercury year]\n",
    "T_Venus = 1.944 * 10**7      # seconds                [seconds per Venus year]\n",
    "T_Earth = 3.154 * 10**7      # seconds                [seconds per Earth year]\n",
    "T_Mars = 5.936 * 10**7       # seconds                [seconds per Mars year]\n",
    "T_Jupiter = 3.74017 * 10**8  # seconds                [seconds per Jupiter year]\n",
    "T_Saturn = 9.145 * 10**8     # seconds                [seconds per Saturn year]\n",
    "T_Uranus = 2.649 * 10**9     # seconds                [seconds per Uranus year]\n",
    "T_Neptune = 5.203 * 10**9    # seconds                [seconds per Neptune year]\n",
    "\n",
    "M0 = 1.989 * 10**30          # kg                     [Mass of Sun]\n",
    "R0 = 695500000*m_to_au       # au                     [Radius of Sun]\n",
    "\n",
    "M1 = 3.3 * 10**23            # kg                     [Mass of Mercury]\n",
    "R1 = 2439000*m_to_au         # au                     [Radius of Mercury]\n",
    "D1 = (5.79*10**10)*m_to_au   # au                     [Orbital distance Mercury-Sun]\n",
    "V1 = np.sqrt(G*M0/D1)        # au/s                   [Orbital velocity of Mercury]\n",
    "\n",
    "M2 = 4.87 * 10**24           # kg                     [Mass of Venus]\n",
    "R2 = 6052000*m_to_au         # au                     [Radius of Venus]\n",
    "D2 = (1.082*10**11)*m_to_au  # au                     [Orbital distance Venus-Sun]\n",
    "V2 = np.sqrt(G*M0/D2)        # au/s                   [Orbital velocity of Venus]\n",
    "\n",
    "M3 = 5.972 * 10**24          # kg                     [Mass of Earth]\n",
    "R3 = 6378100*m_to_au         # au                     [Radius of Earth]\n",
    "D3 = (1.496*10**11)*m_to_au  # au                     [Orbital distance Earth-Sun]\n",
    "V3 = np.sqrt(G*M0/D3)        # au/s                   [Orbital velocity of Earth]\n",
    "\n",
    "M4 = 6.42 * 10**23           # kg                     [Mass of Mars]\n",
    "R4 = 3397000*m_to_au         # au                     [Radius of Mars]\n",
    "D4 = (2.279*10**11)*m_to_au  # au                     [Orbital distance Mars-Sun]\n",
    "V4 = np.sqrt(G*M0/D4)        # au/s                   [Orbital velocity of Mars]\n",
    "\n",
    "M5 = 1.898 * 10**27          # kg                     [Mass of Jupiter]\n",
    "R5 = 69911000*m_to_au        # au                     [Radius of Jupiter]\n",
    "D5 = (7.786*10**11)*m_to_au  # au                     [Orbital distance Jupiter-Sun]\n",
    "V5 = np.sqrt(G*M0/D5)        # au/s                   [Orbital velocity of Jupiter]\n",
    "\n",
    "M6 = 5.69 * 10**26           # kg                     [Mass of Saturn]\n",
    "R6 = 60268000*m_to_au        # au                     [Radius of Saturn]\n",
    "D6 = (1.433*10**12)*m_to_au  # au                     [Orbital distance Saturn-Sun]\n",
    "V6 = np.sqrt(G*M0/D6)        # au/s                   [Orbital velocity of Saturn]\n",
    "\n",
    "M7 = 8.68 * 10**25           # kg                     [Mass of Uranus]\n",
    "R7 = 25559000*m_to_au        # au                     [Radius of Uranus]\n",
    "D7 = (2.873*10**12)*m_to_au  # au                     [Orbital distance Uranus-Sun]\n",
    "V7 = np.sqrt(G*M0/D7)        # au/s                   [Orbital velocity of Uranus]\n",
    "\n",
    "M8 = 1.03 * 10**26           # kg                     [Mass of Neptune]\n",
    "R8 = 24764000*m_to_au        # au                     [Radius of Neptune]\n",
    "D8 = (4.495*10**12)*m_to_au  # au                     [Orbital distance Neptune-Sun]\n",
    "V8 = np.sqrt(G*M0/D8)        # au/s                   [Orbital velocity of Neptune]\n",
    "\n",
    "rho = 2000                   # kg / m**3              [Density of Asteroid]\n",
    "R01 = 1738100*m_to_au        # au                     [Radius of Asteroid]                Doing the Moon\n",
    "Vol = (4/3)*np.pi*(R01**3)   # au**3                  [Volume of Asteroid]\n",
    "M01 = 939.3*10**18           # kg                     [Mass of Asteroid]\n",
    "D01 = D4                     # au                     [Orbital distance Asteroid-Sun]\n",
    "V01 = V4/1.1                 # au/s                   [Orbital velocity of Asteroid]\n",
    "\n",
    "### Energy of an orbit is given by: -(G*M*m) / (2*D)\n",
    "\n",
    "Mass = [M0, M1, M2, M3, M4, M5, M6, M7, M8, M01]      # [Mass list for entire solar system]\n",
    "Radius = [R0, R1, R2, R3, R4, R5, R6, R7, R8, R01]    # [Radius list to be used for collsions later]\n",
    "\n",
    "print('mass of asteroid: {}'.format(M), 'kg')       # [print mass of asteroid for reference]\n",
    "print('velocity of asteroid: {}'.format(V), 'm/s')  # [print velocity of asteroid for reference]\n",
    "\n",
    "def energy_of_orbit(littlem, bigm, orbitdistance):\n",
    "    return -(G*littlem*bigm)/(2*orbitdistance)\n",
    "def kinetic_energy(m, v):\n",
    "    return (1/2)*m*v**2\n",
    "\n",
    "print(\"Energy of Earth's orbit:\", energy_of_orbit(M3, M0, D3)) # [print energy of Earth's orbit for reference]\n",
    "print('Kinetic energy of Asteroid:', kinetic_energy(M01, V01)) # [print kinetic energy of Asteroid for reference]\n",
    "print(50*R0, D1)                                               # [check scale of collisions]"
   ]
  },
  {
   "cell_type": "code",
   "execution_count": 312,
   "metadata": {
    "collapsed": false
   },
   "outputs": [],
   "source": [
    "#####  First attempt at a collision function, restarts simulation with new parameters\n",
    "\n",
    "N = 1001\n",
    "t3 = np.linspace(0, T_Earth, N)\n",
    "t5 = np.linspace(T_Jupiter, 0, N)\n",
    "t8 = np.linspace(0, T_Neptune, N)\n",
    "\n",
    "y_arr = np.array([0.0,               0.0,              0.0,              0.0,\n",
    "                  D1*np.cos(np.pi), -V1*np.sin(np.pi), D1*np.sin(np.pi), V1*np.cos(np.pi),\n",
    "                  D2*np.cos(np.pi), -V2*np.sin(np.pi), D2*np.sin(np.pi), V2*np.cos(np.pi),\n",
    "                  D3*np.cos(np.pi), -V3*np.sin(np.pi), D3*np.sin(np.pi), V3*np.cos(np.pi),\n",
    "                  D4*np.cos(np.pi), -V4*np.sin(np.pi), D4*np.sin(np.pi), V4*np.cos(np.pi),\n",
    "                  D5*np.cos(np.pi), -V5*np.sin(np.pi), D5*np.sin(np.pi), V5*np.cos(np.pi),\n",
    "                  D6*np.cos(np.pi), -V6*np.sin(np.pi), D6*np.sin(np.pi), V6*np.cos(np.pi),\n",
    "                  D7*np.cos(np.pi), -V7*np.sin(np.pi), D7*np.sin(np.pi), V7*np.cos(np.pi),\n",
    "                  D8*np.cos(np.pi), -V8*np.sin(np.pi), D8*np.sin(np.pi), V8*np.cos(np.pi),\n",
    "                  D*np.cos(np.pi/1.2),V01*np.sin(np.pi/1.2),D*np.sin(np.pi/1.2),-V01*np.cos(np.pi/1.2)])"
   ]
  },
  {
   "cell_type": "code",
   "execution_count": 313,
   "metadata": {
    "collapsed": true
   },
   "outputs": [],
   "source": [
    "### Need to modify this code to take into account inelastic collisions:\n",
    "\n",
    "def genOrbitalMotion(y_arr, t):\n",
    "    n = int(len(y_arr) / 4)\n",
    "    \n",
    "    X = np.zeros(n)\n",
    "    Y = np.zeros(n)\n",
    "    ans_arr = np.zeros_like(y_arr)\n",
    "    Vx = np.zeros(n)                                   # velocity in x direction array\n",
    "    Vy = np.zeros(n)                                   # velocity in y direction array\n",
    "    Ax = np.zeros(n)                                   # acceleration in x direction array\n",
    "    Ay = np.zeros(n)                                   # acceleration in y direction array\n",
    "    \n",
    "    X = y_arr[0 : : 4]                                 # assign x position array\n",
    "    Y = y_arr[2 : : 4]                                 # assign y position array\n",
    "    Vx = y_arr[1 : : 4]                                # assign Vx array\n",
    "    Vy = y_arr[3 : : 4]                                # assign Vy array\n",
    "    \n",
    "    for i in range(n):\n",
    "        sumx, sumy = 0, 0\n",
    "        \n",
    "        for j in range(n):\n",
    "            if i == j:\n",
    "                continue\n",
    "            \n",
    "            Sep = np.sqrt((X[i] - X[j])**2 + (Y[i] - Y[j])**2)      # Sep is direct separation between the bodies\n",
    "            '''\n",
    "            if Sep <= 50*(Radius[i] + Radius[j]):                   # Checks if a collision has ocurred\n",
    "                if Mass[i] == 0 or Mass[j] == 0:\n",
    "                    continue\n",
    "                print('collision between', i, j)\n",
    "                \n",
    "                Vx[i] = (Mass[i]*Vx[i] + Mass[j]*Vx[j]) / (Mass[i] + Mass[j])\n",
    "                Vy[i] = (Mass[i]*Vy[i] + Mass[j]*Vy[j]) / (Mass[i] + Mass[j])\n",
    "                \n",
    "                X[j] = X[i]\n",
    "                Y[j] = Y[i]\n",
    "                \n",
    "                Vx[j] = Vx[i]\n",
    "                Vy[j] = Vy[i]\n",
    "                \n",
    "                rho_i = (3*Mass[i]) / (4*np.pi*Radius[i]**3)\n",
    "                rho_j = (3*Mass[j]) / (4*np.pi*Radius[j]**3)\n",
    "                \n",
    "                rho_mass_new = (((Mass[i]/(Mass[i] + Mass[j]))*rho_i) + (Mass[j]/(Mass[i] + Mass[j]))*rho_j)\n",
    "                \n",
    "                Radius[i] = ((3*Mass[i])/(4*np.pi*rho_mass_new))**(1/3)\n",
    "                \n",
    "                Mass[i] = Mass[i] + Mass[j]\n",
    "                Mass[j] = 0\n",
    "                continue\n",
    "            '''\n",
    "            sumx += -(G*Mass[j]*(X[i] - X[j])) / (Sep**3)\n",
    "            sumy += -(G*Mass[j]*(Y[i] - Y[j])) / (Sep**3)\n",
    "        \n",
    "        Ax[i], Ay[i] = sumx, sumy\n",
    "    \n",
    "    ans_arr[0 : : 4] = Vx                              # assign Vx in ans_arr\n",
    "    ans_arr[2 : : 4] = Vy                              # assign Vy in ans_arr\n",
    "    ans_arr[1 : : 4] = Ax                              # assign Ax in ans_arr\n",
    "    ans_arr[3 : : 4] = Ay                              # assign Ay in ans_arr\n",
    "    return np.array(ans_arr)\n",
    "\n",
    "def orbitalMotion(y_arr, t):\n",
    "    ans_arr = odeint(genOrbitalMotion, y_arr, t)\n",
    "    return np.array(ans_arr)"
   ]
  },
  {
   "cell_type": "code",
   "execution_count": 314,
   "metadata": {
    "collapsed": false,
    "scrolled": true
   },
   "outputs": [],
   "source": [
    "Period_Jupiter_Test_Collision = orbitalMotion(y_arr, t5)"
   ]
  },
  {
   "cell_type": "code",
   "execution_count": 315,
   "metadata": {
    "collapsed": false,
    "scrolled": false
   },
   "outputs": [
    {
     "data": {
      "image/png": "[encoded data removed]",
      "text/plain": [
       "<matplotlib.figure.Figure at 0x8668ac8>"
      ]
     },
     "metadata": {},
     "output_type": "display_data"
    }
   ],
   "source": [
    "plt.plot(Period_Jupiter_Test_Collision[:,0],  Period_Jupiter_Test_Collision[:,2],  color='y', label='Sun')\n",
    "plt.plot(Period_Jupiter_Test_Collision[:,4],  Period_Jupiter_Test_Collision[:,6],  color='c', label='Mercury')\n",
    "plt.plot(Period_Jupiter_Test_Collision[:,8],  Period_Jupiter_Test_Collision[:,10], color='g', label='Venus')\n",
    "plt.plot(Period_Jupiter_Test_Collision[:,12], Period_Jupiter_Test_Collision[:,14], color='b', label='Earth')\n",
    "plt.plot(Period_Jupiter_Test_Collision[:,16], Period_Jupiter_Test_Collision[:,18], color='r', label='Mars')\n",
    "#plt.plot(Period_Jupiter_Test_Collision[:,20], Period_Jupiter_Test_Collision[:,22], 'ro', color='m', label='Jupiter')\n",
    "#plt.plot(Period_Jupiter_Test_Collision[:,24], Period_Jupiter_Test_Collision[:,26], 'ro', color='k', label='Saturn')\n",
    "#plt.plot(Period_Jupiter_Test_Collision[:,28], Period_Jupiter_Test_Collision[:,30], 'ro', color='c', label='Uranus')\n",
    "#plt.plot(Period_Jupiter_Test_Collision[:,32], Period_Jupiter_Test_Collision[:,34], 'ro', color='g', label='Neptune')\n",
    "plt.plot(Period_Jupiter_Test_Collision[:,36], Period_Jupiter_Test_Collision[:,38], 's', markersize=10, color='k', \n",
    "         label='Asteroid', alpha=.25)\n",
    "\n",
    "plt.title('Solar System with Earth-Asteroid Collision')\n",
    "plt.xlabel('x [m]')\n",
    "plt.ylabel('y [m]')\n",
    "plt.legend(bbox_to_anchor=(1.05, 1), loc=2, borderaxespad=0., numpoints=1)\n",
    "plt.axes().set_aspect('equal', 'datalim')\n",
    "plt.show()"
   ]
  },
  {
   "cell_type": "code",
   "execution_count": 290,
   "metadata": {
    "collapsed": false,
    "scrolled": true
   },
   "outputs": [
    {
     "name": "stdout",
     "output_type": "stream",
     "text": [
      "[[ -5.42232565e-03   1.35450510e-11   3.69920161e-02  -3.54394182e-11\n",
      "   -4.59050652e-02  -3.18331514e-07   4.21840122e-01  -3.35186506e-08\n",
      "    8.89313586e-02  -2.32126082e-07   7.54072168e-01   3.05080668e-08\n",
      "   -6.09831543e-01   1.58648834e-07  -7.59714426e-01  -1.20381884e-07\n",
      "    5.06292558e-01  -1.51934933e-07   1.47178502e+00   5.41860735e-08\n",
      "   -5.21104379e+00  -3.63021867e-10   6.22988521e-02  -8.72871765e-08\n",
      "    7.75759323e+00  -3.71945640e-08   5.51778303e+00   5.28461604e-08\n",
      "   -1.21414795e+01  -3.52948143e-08   1.48581366e+01  -2.87251682e-08\n",
      "   -2.70199771e+01  -1.59153637e-08   1.31287069e+01  -3.26753116e-08\n",
      "   -5.40603376e-01   1.61948049e-07   7.84796506e-01   4.77293314e-08]]\n"
     ]
    }
   ],
   "source": [
    "print(Period_Jupiter_Test_Collision[])"
   ]
  },
  {
   "cell_type": "code",
   "execution_count": 308,
   "metadata": {
    "collapsed": false,
    "scrolled": true
   },
   "outputs": [
    {
     "data": {
      "image/png": "[encoded data removed]",
      "text/plain": [
       "<matplotlib.figure.Figure at 0x8512470>"
      ]
     },
     "metadata": {},
     "output_type": "display_data"
    }
   ],
   "source": [
    "######  Check animation to see if this looks like a collision\n",
    "\n",
    "import os, sys\n",
    "\n",
    "ff_path = os.path.join('C:/', 'Program Files/','ImageMagick-7.0.3-Q16', 'ffmpeg.exe')\n",
    "plt.rcParams['animation.ffmpeg_path'] = ff_path\n",
    "if ff_path not in sys.path: sys.path.append(ff_path)\n",
    "\n",
    "imgk_path = os.path.join('C:/', 'Program Files/', 'ImageMagick-7.0.3-Q16', 'convert.exe')\n",
    "plt.rcParams['animation.convert_path'] = imgk_path\n",
    "if ff_path not in sys.path: sys.path.append(imgk_path)\n",
    "\n",
    "fig = plt.figure()\n",
    "ax = plt.axes(xlim=(-D5, D5), ylim=(-D5, D5))\n",
    "data, = ax.plot([], [], 'ro')\n",
    "ax.set_xlabel('x position [au]')\n",
    "ax.set_ylabel('y position [au]')\n",
    "ax.set_title('Solar System with Asteroid')\n",
    "\n",
    "def init():\n",
    "    data.set_data([], [])\n",
    "    return data,\n",
    "\n",
    "def animate(time):\n",
    "    x = Period_Jupiter_Test_Collision[time, 0::4]\n",
    "    y = Period_Jupiter_Test_Collision[time, 2::4]\n",
    "    data.set_data(x, y)\n",
    "    return data,\n",
    "\n",
    "anim = animation.FuncAnimation(fig, animate, init_func=init, frames=1000, interval=20, blit=True)\n",
    "\n",
    "FFwriter = animation.FFMpegWriter(fps=30)\n",
    "\n",
    "anim.save(os.path.join('C:/', 'Users/', 'Dito/', 'Documents/', 'UPITT/', 'Fall 2016/', 'Physics 1321/',\n",
    "                       'Destabilization', 'test3.mp4'), writer = FFwriter, extra_args=['-vcodec', 'libx264'])\n"
   ]
  },
  {
   "cell_type": "code",
   "execution_count": null,
   "metadata": {
    "collapsed": true
   },
   "outputs": [],
   "source": []
  }
 ],
 "metadata": {
  "kernelspec": {
   "display_name": "Python 3",
   "language": "python",
   "name": "python3"
  },
  "language_info": {
   "codemirror_mode": {
    "name": "ipython",
    "version": 3
   },
   "file_extension": ".py",
   "mimetype": "text/x-python",
   "name": "python",
   "nbconvert_exporter": "python",
   "pygments_lexer": "ipython3",
   "version": "3.4.5"
  }
 },
 "nbformat": 4,
 "nbformat_minor": 0
}
