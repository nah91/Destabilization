{
 "cells": [
  {
   "cell_type": "code",
   "execution_count": 57,
   "metadata": {
    "collapsed": true
   },
   "outputs": [],
   "source": [
    "%matplotlib inline\n",
    "import matplotlib.pyplot as plt\n",
    "import numpy as np\n",
    "import scipy\n",
    "from scipy.integrate import odeint"
   ]
  },
  {
   "cell_type": "code",
   "execution_count": 58,
   "metadata": {
    "collapsed": false
   },
   "outputs": [
    {
     "name": "stdout",
     "output_type": "stream",
     "text": [
      "mass of asteroid: 2.1736648238752572e+21 kg\n",
      "initial mass of Earth:  5.972e+24\n",
      "initial mass of Asteroid:  2.1736648238752572e+21\n"
     ]
    }
   ],
   "source": [
    "### Define constants:\n",
    "G = 6.67408 * 10**(-11)      # m**3 / (kg * s**2)     [Gravitational constant]\n",
    "T_Mercury = 7.603 * 10**6    # seconds                [seconds per Mercury year]\n",
    "T_Venus = 1.944 * 10**7      # seconds                [seconds per Venus year]\n",
    "T_Earth = 3.154 * 10**7      # seconds                [seconds per Earth year]\n",
    "T_Mars = 5.936 * 10**7       # seconds                [seconds per Mars year]\n",
    "T_Jupiter = 3.74017 * 10**8  # seconds                [seconds per Jupiter year]\n",
    "T_Saturn = 9.145 * 10**8     # seconds                [seconds per Saturn year]\n",
    "T_Uranus = 2.649 * 10**9     # seconds                [seconds per Uranus year]\n",
    "T_Neptune = 5.203 * 10**9    # seconds                [seconds per Neptune year]\n",
    "\n",
    "M0 = 1.989 * 10**30          # kg                     [Mass of Sun]\n",
    "R0 = 695500000               # m                      [Radius of Sun]\n",
    "\n",
    "M1 = 3.3 * 10**23            # kg                     [Mass of Mercury]\n",
    "R1 = 2439000                 # m                      [Radius of Mercury]\n",
    "D1 = 5.79 * 10**10           # m                      [Orbital distance Mercury-Sun]\n",
    "V1 = np.sqrt(G*M0/D1)        # m                      [Orbital velocity of Mercury]\n",
    "\n",
    "M2 = 4.87 * 10**24           # kg                     [Mass of Venus]\n",
    "R2 = 6052000                 # m                      [Radius of Venus]\n",
    "D2 = 1.082 * 10**11          # m                      [Orbital distance Venus-Sun]\n",
    "V2 = np.sqrt(G*M0/D2)        # m                      [Orbital velocity of Venus]\n",
    "\n",
    "M3 = 5.972 * 10**24          # kg                     [Mass of Earth]\n",
    "R3 = 6378100                 # m                      [Radius of Earth]\n",
    "D3 = 1.496 * 10**11          # m                      [Orbital distance Earth-Sun]\n",
    "V3 = np.sqrt(G*M0/D3)        # m                      [Orbital velocity of Earth]\n",
    "\n",
    "M4 = 6.42 * 10**23           # kg                     [Mass of Mars]\n",
    "R4 = 3397000                 # m                      [Radius of Mars]\n",
    "D4 = 2.279 * 10**11          # m                      [Orbital distance Mars-Sun]\n",
    "V4 = np.sqrt(G*M0/D4)        # m                      [Orbital velocity of Mars]\n",
    "\n",
    "M5 = 1.898 * 10**27          # kg                     [Mass of Jupiter]\n",
    "R5 = 69911000                # m                      [Radius of Jupiter]\n",
    "D5 = 7.786 * 10**11          # m                      [Orbital distance Jupiter-Sun]\n",
    "V5 = np.sqrt(G*M0/D5)        # m                      [Orbital velocity of Jupiter]\n",
    "\n",
    "M6 = 5.69 * 10**26           # kg                     [Mass of Saturn]\n",
    "R6 = 60268000                # m                      [Radius of Saturn]\n",
    "D6 = 1.433 * 10**12          # m                      [Orbital distance Saturn-Sun]\n",
    "V6 = np.sqrt(G*M0/D6)        # m                      [Orbital velocity of Saturn]\n",
    "\n",
    "M7 = 8.68 * 10**25           # kg                     [Mass of Uranus]\n",
    "R7 = 25559000                # m                      [Radius of Uranus]\n",
    "D7 = 2.873 * 10**12          # m                      [Orbital distance Uranus-Sun]\n",
    "V7 = np.sqrt(G*M0/D7)        # m                      [Orbital velocity of Uranus]\n",
    "\n",
    "M8 = 1.03 * 10**26           # kg                     [Mass of Neptune]\n",
    "R8 = 24764000                # m                      [Radius of Neptune]\n",
    "D8 = 4.495 * 10**12          # m                      [Orbital distance Neptune-Sun]\n",
    "V8 = np.sqrt(G*M0/D8)        # m                      [Orbital velocity of Neptune]\n",
    "\n",
    "rho = 2000                   # kg / m**3              [Density of Asteroid]\n",
    "R = 637810                   # m                      [Radius of Asteroid]\n",
    "Vol = (4/3)*np.pi*(R**3)     # m**3                   [Volume of Asteroid]\n",
    "M = rho * Vol                # kg                     [Mass of Asteroid]\n",
    "D = 1.496 * 10**11           # m                      [Orbital distance Asteroid-Sun]\n",
    "V = np.sqrt(G*M0/D)          # m                      [Orbital velocity of Asteroid]\n",
    "\n",
    "print('mass of asteroid: {}'.format(M), 'kg')       # [print mass of asteroid for reference]\n",
    "\n",
    "Mass = [M0, M1, M2, M3, M4, M5, M6, M7, M8, M]      # [Mass list for entire solar system]\n",
    "Radius = [R0, R1, R2, R3, R4, R5, R6, R7, R8, R]    # [Radius list to be used for collsions later]\n",
    "print('initial mass of Earth: ', M3)\n",
    "print('initial mass of Asteroid: ', M)"
   ]
  },
  {
   "cell_type": "code",
   "execution_count": 59,
   "metadata": {
    "collapsed": true
   },
   "outputs": [],
   "source": [
    "######### ENTIRE SOLAR SYSTEM SIMULATION GENERALIZED TO n OBJECTS [need to specify Mass and Radius above and appropriate y_arr]\n",
    "\n",
    "N = 101\n",
    "t3 = np.linspace(0, T_Earth, N)\n",
    "t5 = np.linspace(0, T_Jupiter, N)\n",
    "\n",
    "y_arr = np.array([             0.0,               0.0,              0.0,              0.0,\n",
    "                  D1*np.cos(np.pi), -V1*np.sin(np.pi), D1*np.sin(np.pi), V1*np.cos(np.pi),\n",
    "                  D2*np.cos(np.pi), -V2*np.sin(np.pi), D2*np.sin(np.pi), V2*np.cos(np.pi),\n",
    "                  D3*np.cos(np.pi), -V3*np.sin(np.pi), D3*np.sin(np.pi), V3*np.cos(np.pi),\n",
    "                  D4*np.cos(np.pi), -V4*np.sin(np.pi), D4*np.sin(np.pi), V4*np.cos(np.pi),\n",
    "                  D5*np.cos(np.pi), -V5*np.sin(np.pi), D5*np.sin(np.pi), V5*np.cos(np.pi),\n",
    "                  D6*np.cos(np.pi), -V6*np.sin(np.pi), D6*np.sin(np.pi), V6*np.cos(np.pi),\n",
    "                  D7*np.cos(np.pi), -V7*np.sin(np.pi), D7*np.sin(np.pi), V7*np.cos(np.pi),\n",
    "                  D8*np.cos(np.pi), -V8*np.sin(np.pi), D8*np.sin(np.pi), V8*np.cos(np.pi),\n",
    "                  D*np.cos(np.pi/2), V*np.sin(np.pi/2),D*np.sin(np.pi/2),-V*np.cos(np.pi/2)])"
   ]
  },
  {
   "cell_type": "code",
   "execution_count": 60,
   "metadata": {
    "collapsed": false
   },
   "outputs": [],
   "source": [
    "### Need to modify this code to take into account inelastic collisions:\n",
    "\n",
    "def genOrbitalMotion(y_arr, t):\n",
    "    n = len(Mass)\n",
    "    countN = 0                                         # keeps track of how many times it has iterated\n",
    "    \n",
    "    X = np.zeros(n)\n",
    "    Y = np.zeros(n)\n",
    "    ans_arr = np.zeros_like(y_arr)\n",
    "    Vx = np.zeros(n)                                   # velocity in x direction array\n",
    "    Vy = np.zeros(n)                                   # velocity in y direction array\n",
    "    Ax = np.zeros(n)                                   # acceleration in x direction array\n",
    "    Ay = np.zeros(n)                                   # acceleration in y direction array\n",
    "    \n",
    "    X = y_arr[0 : : 4]                                 # assign x position array\n",
    "    Y = y_arr[2 : : 4]                                 # assign y position array\n",
    "    Vx = y_arr[1 : : 4]                  # assign Vx array\n",
    "    Vy = y_arr[3 : : 4]                  # assign Vy array\n",
    "    \n",
    "    ans_arr[0 : : 4] = y_arr[1 : : 4]                  # assign Vx in ans_arr\n",
    "    ans_arr[2 : : 4] = y_arr[3 : : 4]                  # assign Vy in ans_arr\n",
    "    \n",
    "    for i in range(n):\n",
    "        sumx, sumy = 0, 0\n",
    "        for j in range(n):\n",
    "            if i == j:\n",
    "                continue\n",
    "            Sep = np.sqrt((X[i] - X[j])**2 + (Y[i] - Y[j])**2)      # Sep is radial separation between the bodies\n",
    "            \n",
    "            if Sep <= Radius[i] + Radius[j]:                        # Checks if a collision has ocurred\n",
    "                Mass[i] = Mass[i] + Mass[j]\n",
    "                Mass[j] = 0\n",
    "                Radius[i] = Radius[i] + Radius[j]\n",
    "                Radius[j] = 0\n",
    "                X[4*j] = 0\n",
    "                Y[4*j] = 0\n",
    "                Ax[j] = 0\n",
    "                Ay[j] = 0\n",
    "                countN += 1\n",
    "                continue\n",
    "            \n",
    "            sumx += -(G*Mass[j]*(X[i] - X[j])) / (Sep**3)\n",
    "            sumy += -(G*Mass[j]*(Y[i] - Y[j])) / (Sep**3)\n",
    "            countN += 1\n",
    "        Ax[i], Ay[i] = sumx, sumy\n",
    "    \n",
    "    ans_arr[1 : : 4] = Ax\n",
    "    ans_arr[3 : : 4] = Ay\n",
    "    return np.array(ans_arr)\n",
    "\n",
    "def orbitalMotion(y_arr, t):\n",
    "    ans_arr = odeint(genOrbitalMotion, y_arr, t)\n",
    "    return np.array(ans_arr)"
   ]
  },
  {
   "cell_type": "code",
   "execution_count": 61,
   "metadata": {
    "collapsed": false
   },
   "outputs": [],
   "source": [
    "Period_Jupiter = orbitalMotion(y_arr, t5)"
   ]
  },
  {
   "cell_type": "code",
   "execution_count": 62,
   "metadata": {
    "collapsed": false
   },
   "outputs": [
    {
     "data": {
      "image/png": "[encoded data removed]",
      "text/plain": [
       "<matplotlib.figure.Figure at 0x88b1518>"
      ]
     },
     "metadata": {},
     "output_type": "display_data"
    }
   ],
   "source": [
    "#plt.plot(Period_Jupiter[:,0],  Period_Jupiter[:,2],  'ro', color='y', label='Sun')\n",
    "#plt.plot(Period_Jupiter[:,4],  Period_Jupiter[:,6],  'ro', color='c', label='Mercury')\n",
    "#plt.plot(Period_Jupiter[:,8],  Period_Jupiter[:,10], 'ro', color='g', label='Venus')\n",
    "plt.plot(Period_Jupiter[:,12], Period_Jupiter[:,14], 'ro', color='b', label='Earth')\n",
    "#plt.plot(Period_Jupiter[:,16], Period_Jupiter[:,18], 'ro', color='r', label='Mars')\n",
    "#plt.plot(Period_Jupiter[:,20], Period_Jupiter[:,22], 'ro', color='m', label='Jupiter')\n",
    "#plt.plot(Period_Jupiter[:,24], Period_Jupiter[:,26], 'ro', color='k', label='Saturn')\n",
    "#plt.plot(Period_Jupiter[:,28], Period_Jupiter[:,30], 'ro', color='c', label='Uranus')\n",
    "#plt.plot(Period_Jupiter[:,32], Period_Jupiter[:,34], 'ro', color='g', label='Neptune')\n",
    "plt.plot(Period_Jupiter[:,36], Period_Jupiter[:,38], 'ro', color='k', label='Asteroid')\n",
    "\n",
    "plt.title('Solar System, 1 Jupiter Period')\n",
    "plt.xlabel('x [m]')\n",
    "plt.ylabel('y [m]')\n",
    "plt.legend(bbox_to_anchor=(1.05, 1), loc=2, borderaxespad=0.)\n",
    "plt.axes().set_aspect('equal', 'datalim')\n",
    "plt.show()"
   ]
  },
  {
   "cell_type": "code",
   "execution_count": 63,
   "metadata": {
    "collapsed": true
   },
   "outputs": [],
   "source": [
    "#####  First attempt at a collision function, restarts simulation with new parameters\n",
    "\n",
    "N = 101\n",
    "t3 = np.linspace(0, T_Earth, N)\n",
    "t5 = np.linspace(0, T_Jupiter, N)\n",
    "\n",
    "y_arr = np.array([ D3, -V3, 0.0, 0.0,\n",
    "                  -D ,  V , 0.0, 0.0]) #1-D collision test\n",
    "                  #             0.0,               0.0,              0.0,              0.0,\n",
    "                  #D1*np.cos(np.pi), -V1*np.sin(np.pi), D1*np.sin(np.pi), V1*np.cos(np.pi),\n",
    "                  #D2*np.cos(np.pi), -V2*np.sin(np.pi), D2*np.sin(np.pi), V2*np.cos(np.pi),\n",
    "                  #D3*np.cos(np.pi), -V3*np.sin(np.pi), D3*np.sin(np.pi), V3*np.cos(np.pi),\n",
    "                  #D4*np.cos(np.pi), -V4*np.sin(np.pi), D4*np.sin(np.pi), V4*np.cos(np.pi),\n",
    "                  #D5*np.cos(np.pi), -V5*np.sin(np.pi), D5*np.sin(np.pi), V5*np.cos(np.pi),\n",
    "                  #D6*np.cos(np.pi), -V6*np.sin(np.pi), D6*np.sin(np.pi), V6*np.cos(np.pi),\n",
    "                  #D7*np.cos(np.pi), -V7*np.sin(np.pi), D7*np.sin(np.pi), V7*np.cos(np.pi),\n",
    "                  #D8*np.cos(np.pi), -V8*np.sin(np.pi), D8*np.sin(np.pi), V8*np.cos(np.pi),\n",
    "                  #D*np.cos(np.pi/2), V*np.sin(np.pi/2),D*np.sin(np.pi/2),-V*np.cos(np.pi/2)])"
   ]
  },
  {
   "cell_type": "code",
   "execution_count": 64,
   "metadata": {
    "collapsed": true
   },
   "outputs": [],
   "source": [
    "### Need to modify this code to take into account inelastic collisions:\n",
    "\n",
    "def genOrbitalMotion(y_arr, t):\n",
    "    n = int(len(y_arr) / 4)\n",
    "    countN = 0                                         # keeps track of how many times it has iterated\n",
    "    \n",
    "    X = np.zeros(n)\n",
    "    Y = np.zeros(n)\n",
    "    ans_arr = np.zeros_like(y_arr)\n",
    "    Vx = np.zeros(n)                                   # velocity in x direction array\n",
    "    Vy = np.zeros(n)                                   # velocity in y direction array\n",
    "    Ax = np.zeros(n)                                   # acceleration in x direction array\n",
    "    Ay = np.zeros(n)                                   # acceleration in y direction array\n",
    "    \n",
    "    X = y_arr[0 : : 4]                                 # assign x position array\n",
    "    Y = y_arr[2 : : 4]                                 # assign y position array\n",
    "    Vx = y_arr[1 : : 4]                                # assign Vx array\n",
    "    Vy = y_arr[3 : : 4]                                # assign Vy array\n",
    "    \n",
    "    for i in range(n):\n",
    "        sumx, sumy = 0, 0\n",
    "        for j in range(n):\n",
    "            if i == j:\n",
    "                continue\n",
    "            Sep = np.sqrt((X[i] - X[j])**2 + (Y[i] - Y[j])**2)      # Sep is direct separation between the bodies\n",
    "            \n",
    "            if Sep <= Radius[i] + Radius[j]:                        # Checks if a collision has ocurred\n",
    "                Radius[i] = Radius[i] + Radius[j]\n",
    "                \n",
    "                #X[j] = X[i]\n",
    "                #Y[j] = Y[i]\n",
    "                \n",
    "                Vx[i] = (Mass[i]*Vx[i] + Mass[j]*Vx[j]) / (Mass[i] + Mass[j])     # conservation of linear momentum in x\n",
    "                Vy[i] = (Mass[i]*Vy[i] + Mass[j]*Vy[j]) / (Mass[i] + Mass[j])     # conservation of linear momentum in y\n",
    "                Vx[j] = Vx[i]\n",
    "                Vy[j] = Vy[i]\n",
    "                \n",
    "                Mass[i] = Mass[i] + Mass[j]\n",
    "                Mass[j] = 0\n",
    "                \n",
    "                #Ax[j] = Ax[i]\n",
    "                #Ay[j] = Ay[i]\n",
    "                \n",
    "                countN += 1\n",
    "            \n",
    "            sumx += -(G*Mass[j]*(X[i] - X[j])) / (Sep**3)\n",
    "            sumy += -(G*Mass[j]*(Y[i] - Y[j])) / (Sep**3)\n",
    "            countN += 1\n",
    "        Ax[i], Ay[i] = sumx, sumy\n",
    "    \n",
    "    ans_arr[0 : : 4] = Vx                              # assign Vx in ans_arr\n",
    "    ans_arr[2 : : 4] = Vy                              # assign Vy in ans_arr\n",
    "    ans_arr[1 : : 4] = Ax                              # assign Ax in ans_arr\n",
    "    ans_arr[3 : : 4] = Ay                              # assign Ay in ans_arr\n",
    "    return np.array(ans_arr)\n",
    "\n",
    "def orbitalMotion(y_arr, t):\n",
    "    ans_arr = odeint(genOrbitalMotion, y_arr, t)\n",
    "    return np.array(ans_arr)"
   ]
  },
  {
   "cell_type": "code",
   "execution_count": 65,
   "metadata": {
    "collapsed": false
   },
   "outputs": [],
   "source": [
    "Period_Earth_Test_Collision = orbitalMotion(y_arr, t3)"
   ]
  },
  {
   "cell_type": "code",
   "execution_count": 66,
   "metadata": {
    "collapsed": false
   },
   "outputs": [
    {
     "data": {
      "image/png": "[encoded data removed]",
      "text/plain": [
       "<matplotlib.figure.Figure at 0x8b9e240>"
      ]
     },
     "metadata": {},
     "output_type": "display_data"
    },
    {
     "data": {
      "image/png": "[encoded data removed]",
      "text/plain": [
       "<matplotlib.figure.Figure at 0x8ac9710>"
      ]
     },
     "metadata": {},
     "output_type": "display_data"
    }
   ],
   "source": [
    "plt.plot(Period_Earth_Test_Collision[:,0], Period_Earth_Test_Collision[:,2], 'ro', color='b', label='Earth')\n",
    "plt.title('1-D Collision Earth position')\n",
    "plt.xlabel('x [m]')\n",
    "plt.ylabel('y [m]')\n",
    "plt.legend(bbox_to_anchor=(1.05, 1), loc=2, borderaxespad=0.)\n",
    "plt.axes().set_aspect('equal', 'datalim')\n",
    "plt.show()\n",
    "\n",
    "plt.plot(Period_Earth_Test_Collision[:,4], Period_Earth_Test_Collision[:,6], 'ro', color='k', label='Asteroid')\n",
    "plt.title('1-D Collision Asteroid position')\n",
    "plt.xlabel('x [m]')\n",
    "plt.ylabel('y [m]')\n",
    "plt.legend(bbox_to_anchor=(1.05, 1), loc=2, borderaxespad=0.)\n",
    "plt.axes().set_aspect('equal', 'datalim')\n",
    "plt.show()"
   ]
  },
  {
   "cell_type": "code",
   "execution_count": null,
   "metadata": {
    "collapsed": true
   },
   "outputs": [],
   "source": []
  }
 ],
 "metadata": {
  "kernelspec": {
   "display_name": "Python 3",
   "language": "python",
   "name": "python3"
  },
  "language_info": {
   "codemirror_mode": {
    "name": "ipython",
    "version": 3
   },
   "file_extension": ".py",
   "mimetype": "text/x-python",
   "name": "python",
   "nbconvert_exporter": "python",
   "pygments_lexer": "ipython3",
   "version": "3.4.5"
  }
 },
 "nbformat": 4,
 "nbformat_minor": 0
}
