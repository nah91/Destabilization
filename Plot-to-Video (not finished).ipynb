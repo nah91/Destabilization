{
 "cells": [
  {
   "cell_type": "code",
   "execution_count": 62,
   "metadata": {
    "collapsed": false
   },
   "outputs": [],
   "source": [
    "%matplotlib inline\n",
    "import matplotlib.pyplot as plt\n",
    "from matplotlib import animation\n",
    "import numpy as np\n",
    "import scipy\n",
    "from scipy.integrate import odeint\n",
    "import time"
   ]
  },
  {
   "cell_type": "code",
   "execution_count": 63,
   "metadata": {
    "collapsed": false
   },
   "outputs": [
    {
     "name": "stdout",
     "output_type": "stream",
     "text": [
      "mass of asteroid: 2.1736648238752572e+21\n"
     ]
    }
   ],
   "source": [
    "### Define constants:\n",
    "G = 6.67408 * 10**(-11)      # m**3 / (kg * s**2)     [Gravitational constant]\n",
    "T_Mercury = 7.603 * 10**6    # seconds                [seconds per Mercury year]\n",
    "T_Venus = 1.944 * 10**7      # seconds                [seconds per Venus year]\n",
    "T_Earth = 3.154 * 10**7      # seconds                [seconds per Earth year]\n",
    "T_Mars = 5.936 * 10**7       # seconds                [seconds per Mars year]\n",
    "T_Jupiter = 3.74017 * 10**8  # seconds                [seconds per Jupiter year]\n",
    "T_Saturn = 9.145 * 10**8     # seconds                [seconds per Saturn year]\n",
    "T_Uranus = 2.649 * 10**9     # seconds                [seconds per Uranus year]\n",
    "T_Neptune = 5.203 * 10**9    # seconds                [seconds per Neptune year]\n",
    "\n",
    "M0 = 1.989 * 10**30          # kg                     [Mass of Sun]\n",
    "R0 = 695500000               # m                      [Radius of Sun]\n",
    "\n",
    "M1 = 3.3 * 10**23            # kg                     [Mass of Mercury]\n",
    "R1 = 2439000                 # m                      [Radius of Mercury]\n",
    "D1 = 5.79 * 10**10           # m                      [Orbital distance Mercury-Sun]\n",
    "V1 = np.sqrt(G*M0/D1)        # m                      [Orbital velocity of Mercury]\n",
    "\n",
    "M2 = 4.87 * 10**24           # kg                     [Mass of Venus]\n",
    "R2 = 6052000                 # m                      [Radius of Venus]\n",
    "D2 = 1.082 * 10**11          # m                      [Orbital distance Venus-Sun]\n",
    "V2 = np.sqrt(G*M0/D2)        # m                      [Orbital velocity of Venus]\n",
    "\n",
    "M3 = 5.972 * 10**24          # kg                     [Mass of Earth]\n",
    "R3 = 6378100                 # m                      [Radius of Earth]\n",
    "D3 = 1.496 * 10**11          # m                      [Orbital distance Earth-Sun]\n",
    "V3 = np.sqrt(G*M0/D3)        # m                      [Orbital velocity of Earth]\n",
    "\n",
    "M4 = 6.42 * 10**23           # kg                     [Mass of Mars]\n",
    "R4 = 3397000                 # m                      [Radius of Mars]\n",
    "D4 = 2.279 * 10**11          # m                      [Orbital distance Mars-Sun]\n",
    "V4 = np.sqrt(G*M0/D4)        # m                      [Orbital velocity of Mars]\n",
    "\n",
    "M5 = 1.898 * 10**27          # kg                     [Mass of Jupiter]\n",
    "R5 = 69911000                # m                      [Radius of Jupiter]\n",
    "D5 = 7.786 * 10**11          # m                      [Orbital distance Jupiter-Sun]\n",
    "V5 = np.sqrt(G*M0/D5)        # m                      [Orbital velocity of Jupiter]\n",
    "\n",
    "M6 = 5.69 * 10**26           # kg                     [Mass of Saturn]\n",
    "R6 = 60268000                # m                      [Radius of Saturn]\n",
    "D6 = 1.433 * 10**12          # m                      [Orbital distance Saturn-Sun]\n",
    "V6 = np.sqrt(G*M0/D6)        # m                      [Orbital velocity of Saturn]\n",
    "\n",
    "M7 = 8.68 * 10**25           # kg                     [Mass of Uranus]\n",
    "R7 = 25559000                # m                      [Radius of Uranus]\n",
    "D7 = 2.873 * 10**12          # m                      [Orbital distance Uranus-Sun]\n",
    "V7 = np.sqrt(G*M0/D7)        # m                      [Orbital velocity of Uranus]\n",
    "\n",
    "M8 = 1.03 * 10**26           # kg                     [Mass of Neptune]\n",
    "R8 = 24764000                # m                      [Radius of Neptune]\n",
    "D8 = 4.495 * 10**12          # m                      [Orbital distance Neptune-Sun]\n",
    "V8 = np.sqrt(G*M0/D8)        # m                      [Orbital velocity of Neptune]\n",
    "\n",
    "rho = 2000                   # kg / m**3              [Density of Asteroid]\n",
    "R = 637810                   # m                      [Radius of Asteroid]\n",
    "Vol = (4/3)*np.pi*(R**3)     # m**3                   [Volume of Asteroid]\n",
    "M = rho * Vol                # kg                     [Mass of Asteroid]\n",
    "D = 1.496 * 10**11           # m                      [Orbital distance Asteroid-Sun]\n",
    "V = np.sqrt(G*M0/D)          # m                      [Orbital velocity of Asteroid]\n",
    "\n",
    "print('mass of asteroid: {}'.format(M))             # [print mass of asteroid for reference]\n",
    "Mass = np.array([M0, M1, M2, M3, M4, M5, M6, M7, M8]) # [Mass array for entire solar system]\n",
    "planets = np.array(['Sun', 'Mercury', 'Venus', 'Earth', 'Mars', 'Jupiter', 'Saturn', 'Uranus', 'Neptune']) # [planet array]\n",
    "n = len(Mass)"
   ]
  },
  {
   "cell_type": "code",
   "execution_count": 64,
   "metadata": {
    "collapsed": true
   },
   "outputs": [],
   "source": [
    "########     ENTIRE SOLAR SYSTEM SIMULATION GENERALIZED TO n OBJECTS\n",
    "\n",
    "N = 1001\n",
    "t3 = np.linspace(0, T_Earth, N)\n",
    "t5 = np.linspace(0, T_Jupiter, N)\n",
    "\n",
    "y_arr = np.array([             0.0,               0.0,              0.0,              0.0,\n",
    "                  D1*np.cos(np.pi), -V1*np.sin(np.pi), D1*np.sin(np.pi), V1*np.cos(np.pi),\n",
    "                  D2*np.cos(np.pi), -V2*np.sin(np.pi), D2*np.sin(np.pi), V2*np.cos(np.pi),\n",
    "                  D3*np.cos(np.pi), -V3*np.sin(np.pi), D3*np.sin(np.pi), V3*np.cos(np.pi),\n",
    "                  D4*np.cos(np.pi), -V4*np.sin(np.pi), D4*np.sin(np.pi), V4*np.cos(np.pi),\n",
    "                  D5*np.cos(np.pi), -V5*np.sin(np.pi), D5*np.sin(np.pi), V5*np.cos(np.pi),\n",
    "                  D6*np.cos(np.pi), -V6*np.sin(np.pi), D6*np.sin(np.pi), V6*np.cos(np.pi),\n",
    "                  D7*np.cos(np.pi), -V7*np.sin(np.pi), D7*np.sin(np.pi), V7*np.cos(np.pi),\n",
    "                  D8*np.cos(np.pi), -V8*np.sin(np.pi), D8*np.sin(np.pi), V8*np.cos(np.pi)])"
   ]
  },
  {
   "cell_type": "code",
   "execution_count": 67,
   "metadata": {
    "collapsed": false
   },
   "outputs": [],
   "source": [
    "### Attempt orbits of all 8 planets and Sun:\n",
    "def genOrbitalMotion(y_arr, t):\n",
    "    X = np.zeros(n)\n",
    "    Y = np.zeros(n)\n",
    "    ans_arr = np.zeros_like(y_arr)\n",
    "    \n",
    "    X = y_arr[0 : : 4]                                 # assign x position array\n",
    "    Y = y_arr[2 : : 4]                                 # assign y position array\n",
    "    Ax = np.zeros(n)                                   # acceleration in x direction\n",
    "    Ay = np.zeros(n)                                   # acceleration in y direction\n",
    "    \n",
    "    ans_arr[0 : : 4] = y_arr[1 : : 4]                  # assign Vx\n",
    "    ans_arr[2 : : 4] = y_arr[3 : : 4]                  # assign Vy\n",
    "    \n",
    "    for i in range(n):\n",
    "        sumx, sumy = 0, 0\n",
    "        for j in range(n):\n",
    "            if i == j:\n",
    "                continue\n",
    "            R = np.sqrt((X[i] - X[j])**2 + (Y[i] - Y[j])**2)\n",
    "            sumx += -(G*Mass[j]*(X[i] - X[j])) / (R**3)\n",
    "            sumy += -(G*Mass[j]*(Y[i] - Y[j])) / (R**3)\n",
    "        Ax[i], Ay[i] = sumx, sumy\n",
    "    \n",
    "    ans_arr[1 : : 4] = Ax\n",
    "    ans_arr[3 : : 4] = Ay\n",
    "    return np.array(ans_arr)\n",
    "\n",
    "def orbitalMotion(y_arr, t):\n",
    "    ans_arr = odeint(genOrbitalMotion, y_arr, t)\n",
    "    return np.array(ans_arr)"
   ]
  },
  {
   "cell_type": "code",
   "execution_count": 68,
   "metadata": {
    "collapsed": false
   },
   "outputs": [],
   "source": [
    "Period_Jupiter = orbitalMotion(y_arr, t5)"
   ]
  },
  {
   "cell_type": "code",
   "execution_count": 69,
   "metadata": {
    "collapsed": false,
    "scrolled": false
   },
   "outputs": [
    {
     "data": {
      "text/plain": [
       "\"\\nplt.plot(Period_Jupiter[:,0],  Period_Jupiter[:,2],  'ro', color='y', label='Sun')\\nplt.plot(Period_Jupiter[:,4],  Period_Jupiter[:,6],  'ro', color='c', label='Mercury')\\nplt.plot(Period_Jupiter[:,8],  Period_Jupiter[:,10], 'ro', color='g', label='Venus')\\nplt.plot(Period_Jupiter[:,12], Period_Jupiter[:,14], 'ro', color='b', label='Earth')\\nplt.plot(Period_Jupiter[:,16], Period_Jupiter[:,18], 'ro', color='r', label='Mars')\\nplt.plot(Period_Jupiter[:,20], Period_Jupiter[:,22], 'ro', color='m', label='Jupiter')\\nplt.plot(Period_Jupiter[:,24], Period_Jupiter[:,26], 'ro', color='k', label='Saturn')\\nplt.plot(Period_Jupiter[:,28], Period_Jupiter[:,30], 'ro', color='c', label='Uranus')\\nplt.plot(Period_Jupiter[:,32], Period_Jupiter[:,34], 'ro', color='g', label='Neptune')\\n\\nplt.title('Solar System, 1 Jupiter Period')\\nplt.xlabel('x [m]')\\nplt.ylabel('y [m]')\\nplt.legend(bbox_to_anchor=(1.05, 1), loc=2, borderaxespad=0.)\\nplt.axes().set_aspect('equal', 'datalim')\\nplt.show()\\n\""
      ]
     },
     "execution_count": 69,
     "metadata": {},
     "output_type": "execute_result"
    }
   ],
   "source": [
    "'''\n",
    "plt.plot(Period_Jupiter[:,0],  Period_Jupiter[:,2],  'ro', color='y', label='Sun')\n",
    "plt.plot(Period_Jupiter[:,4],  Period_Jupiter[:,6],  'ro', color='c', label='Mercury')\n",
    "plt.plot(Period_Jupiter[:,8],  Period_Jupiter[:,10], 'ro', color='g', label='Venus')\n",
    "plt.plot(Period_Jupiter[:,12], Period_Jupiter[:,14], 'ro', color='b', label='Earth')\n",
    "plt.plot(Period_Jupiter[:,16], Period_Jupiter[:,18], 'ro', color='r', label='Mars')\n",
    "plt.plot(Period_Jupiter[:,20], Period_Jupiter[:,22], 'ro', color='m', label='Jupiter')\n",
    "plt.plot(Period_Jupiter[:,24], Period_Jupiter[:,26], 'ro', color='k', label='Saturn')\n",
    "plt.plot(Period_Jupiter[:,28], Period_Jupiter[:,30], 'ro', color='c', label='Uranus')\n",
    "plt.plot(Period_Jupiter[:,32], Period_Jupiter[:,34], 'ro', color='g', label='Neptune')\n",
    "\n",
    "plt.title('Solar System, 1 Jupiter Period')\n",
    "plt.xlabel('x [m]')\n",
    "plt.ylabel('y [m]')\n",
    "plt.legend(bbox_to_anchor=(1.05, 1), loc=2, borderaxespad=0.)\n",
    "plt.axes().set_aspect('equal', 'datalim')\n",
    "plt.show()\n",
    "'''"
   ]
  },
  {
   "cell_type": "code",
   "execution_count": 70,
   "metadata": {
    "collapsed": true
   },
   "outputs": [],
   "source": [
    "#### create save files for video\n",
    "\n",
    "def create_save_files():\n",
    "    filenames = []\n",
    "    for t in range(N):\n",
    "        filenames.append('Image_{}.png'.format(t))\n",
    "    return np.array(filenames)\n",
    "\n",
    "#filenames = create_save_files()"
   ]
  },
  {
   "cell_type": "code",
   "execution_count": 71,
   "metadata": {
    "collapsed": false,
    "scrolled": true
   },
   "outputs": [],
   "source": [
    "######  Write data to file\n",
    "\n",
    "def write_to_file():\n",
    "    for t in range(N):\n",
    "        plt.plot(Period_Jupiter[t,0],  Period_Jupiter[t,2],  'ro', color='y', label='Sun')\n",
    "        plt.plot(Period_Jupiter[t,4],  Period_Jupiter[t,6],  'ro', color='c', label='Mercury')\n",
    "        plt.plot(Period_Jupiter[t,8],  Period_Jupiter[t,10], 'ro', color='g', label='Venus')\n",
    "        plt.plot(Period_Jupiter[t,12], Period_Jupiter[t,14], 'ro', color='b', label='Earth')\n",
    "        plt.plot(Period_Jupiter[t,16], Period_Jupiter[t,18], 'ro', color='r', label='Mars')\n",
    "        plt.plot(Period_Jupiter[t,20], Period_Jupiter[t,22], 'ro', color='m', label='Jupiter')\n",
    "        plt.plot(Period_Jupiter[t,24], Period_Jupiter[t,26], 'ro', color='k', label='Saturn')\n",
    "        plt.plot(Period_Jupiter[t,28], Period_Jupiter[t,30], 'ro', color='c', label='Uranus')\n",
    "        plt.plot(Period_Jupiter[t,32], Period_Jupiter[t,34], 'ro', color='g', label='Neptune')\n",
    "        \n",
    "        plt.title('Solar System, 1 Jupiter Period')\n",
    "        plt.xlabel('x [m]')\n",
    "        plt.ylabel('y [m]')\n",
    "        plt.legend(bbox_to_anchor=(1.05, 1), loc=2, borderaxespad=0.)\n",
    "        plt.axes().set_aspect('equal', 'datalim')\n",
    "        \n",
    "        plt.savefig(filenames[t])\n",
    "        plt.clf()\n",
    "\n",
    "#write_to_file()"
   ]
  },
  {
   "cell_type": "code",
   "execution_count": 72,
   "metadata": {
    "collapsed": false
   },
   "outputs": [
    {
     "data": {
      "image/png": "[encoded data removed]",
      "text/plain": [
       "<matplotlib.figure.Figure at 0xa6b3828>"
      ]
     },
     "metadata": {},
     "output_type": "display_data"
    }
   ],
   "source": [
    "#####  code for mp4 creation adapted from:  http://josephrenaud.com/post-drop/2016/data-animation-with-python\n",
    "#####  WORKS CORRECTLY\n",
    "\n",
    "import os, sys\n",
    "\n",
    "ff_path = os.path.join('C:/', 'Program Files/','ImageMagick-7.0.3-Q16', 'ffmpeg.exe')\n",
    "plt.rcParams['animation.ffmpeg_path'] = ff_path\n",
    "if ff_path not in sys.path: sys.path.append(ff_path)\n",
    "\n",
    "imgk_path = os.path.join('C:/', 'Program Files/', 'ImageMagick-7.0.3-Q16', 'convert.exe')\n",
    "plt.rcParams['animation.convert_path'] = imgk_path\n",
    "if ff_path not in sys.path: sys.path.append(imgk_path)\n",
    "\n",
    "fig = plt.figure()\n",
    "ax = plt.axes(xlim=(0, 2), ylim=(-2, 2))\n",
    "line, = ax.plot([], [], lw=2)\n",
    "ax.set_xlabel('')\n",
    "\n",
    "def init():\n",
    "    line.set_data([], [])\n",
    "    return line,\n",
    "\n",
    "def animate(time):\n",
    "    x = np.linspace(0, 2, 1000)\n",
    "    y = np.sin(2 * np.pi * (x - 0.01 * time))\n",
    "    line.set_data(x, y)\n",
    "    return line,\n",
    "\n",
    "anim = animation.FuncAnimation(fig, animate, init_func=init,\n",
    "                           frames=200, interval=20, blit=True)\n",
    "\n",
    "FFwriter = animation.FFMpegWriter()\n",
    "\n",
    "anim.save(os.path.join('C:/', 'Users/', 'Dito/', 'Documents/', 'UPITT/', 'Fall 2016/', 'Physics 1321/', 'Destabilization',\n",
    "                       'basic_animation.mp4'), writer = FFwriter, fps=30, extra_args=['-vcodec', 'libx264'])\n",
    "\n",
    "#anim.save(os.path.join('C:/', 'Users/', 'Dito/', 'Documents','basic_animation.gif'), writer='ImageMagick-7.0.3-Q16', fps=30)"
   ]
  },
  {
   "cell_type": "code",
   "execution_count": 75,
   "metadata": {
    "collapsed": false,
    "scrolled": true
   },
   "outputs": [
    {
     "data": {
      "image/png": "[encoded data removed]",
      "text/plain": [
       "<matplotlib.figure.Figure at 0x90a7d30>"
      ]
     },
     "metadata": {},
     "output_type": "display_data"
    }
   ],
   "source": [
    "#####  now try to adapt above code for creation of animation of solar system data NOT YET COMPLETE\n",
    "\n",
    "import os, sys\n",
    "\n",
    "ff_path = os.path.join('C:/', 'Program Files/','ImageMagick-7.0.3-Q16', 'ffmpeg.exe')\n",
    "plt.rcParams['animation.ffmpeg_path'] = ff_path\n",
    "if ff_path not in sys.path: sys.path.append(ff_path)\n",
    "\n",
    "imgk_path = os.path.join('C:/', 'Program Files/', 'ImageMagick-7.0.3-Q16', 'convert.exe')\n",
    "plt.rcParams['animation.convert_path'] = imgk_path\n",
    "if ff_path not in sys.path: sys.path.append(imgk_path)\n",
    "\n",
    "fig = plt.figure()\n",
    "ax = plt.axes(xlim=(-D8, D8), ylim=(-D8, D8))\n",
    "data, = ax.plot([], [], 'ro')\n",
    "ax.set_xlabel('x position')\n",
    "ax.set_ylabel('y position')\n",
    "\n",
    "def init():\n",
    "    data.set_data([], [])\n",
    "    return data,\n",
    "\n",
    "def animate(time):\n",
    "    x = Period_Jupiter[time, 20]\n",
    "    y = Period_Jupiter[time, 22]\n",
    "    data.set_data(x, y)\n",
    "    return data,\n",
    "\n",
    "anim = animation.FuncAnimation(fig, animate, init_func=init, frames=1000, interval=20, blit=True)\n",
    "\n",
    "FFwriter = animation.FFMpegWriter()\n",
    "\n",
    "anim.save(os.path.join('C:/', 'Users/', 'Dito/', 'Documents/', 'UPITT/', 'Fall 2016/', 'Physics 1321/', 'Destabilization',\n",
    "                       'basic_animation.mp4'), writer = FFwriter, fps=60, extra_args=['-vcodec', 'libx264'])\n",
    "\n",
    "#anim.save(os.path.join('C:/', 'Users/', 'Dito/', 'Documents','basic_animation.gif'), writer='ImageMagick-7.0.3-Q16', fps=30)"
   ]
  },
  {
   "cell_type": "code",
   "execution_count": 76,
   "metadata": {
    "collapsed": false
   },
   "outputs": [
    {
     "data": {
      "image/png": "[encoded data removed]",
      "text/plain": [
       "<matplotlib.figure.Figure at 0x90e8748>"
      ]
     },
     "metadata": {},
     "output_type": "display_data"
    }
   ],
   "source": [
    "#####  now try to adapt above code for creation of animation of solar system data NOT YET COMPLETE\n",
    "\n",
    "import os, sys\n",
    "\n",
    "ff_path = os.path.join('C:/', 'Program Files/','ImageMagick-7.0.3-Q16', 'ffmpeg.exe')\n",
    "plt.rcParams['animation.ffmpeg_path'] = ff_path\n",
    "if ff_path not in sys.path: sys.path.append(ff_path)\n",
    "\n",
    "imgk_path = os.path.join('C:/', 'Program Files/', 'ImageMagick-7.0.3-Q16', 'convert.exe')\n",
    "plt.rcParams['animation.convert_path'] = imgk_path\n",
    "if ff_path not in sys.path: sys.path.append(imgk_path)\n",
    "\n",
    "fig = plt.figure()\n",
    "ax = plt.axes(xlim=(-D8, D8), ylim=(-D8, D8))\n",
    "data, = ax.plot([], [], 'ro')\n",
    "ax.set_xlabel('x position')\n",
    "ax.set_ylabel('y position')\n",
    "\n",
    "def init():\n",
    "    data.set_data([], [])\n",
    "    return data,\n",
    "\n",
    "def animate(time):\n",
    "    x = Period_Jupiter[time, 0::4]\n",
    "    y = Period_Jupiter[time, 2::4]\n",
    "    data.set_data(x, y)\n",
    "    return data,\n",
    "\n",
    "anim = animation.FuncAnimation(fig, animate, init_func=init, frames=1000, interval=20, blit=True)\n",
    "\n",
    "FFwriter = animation.FFMpegWriter()\n",
    "\n",
    "anim.save(os.path.join('C:/', 'Users/', 'Dito/', 'Documents/', 'UPITT/', 'Fall 2016/', 'Physics 1321/', 'Destabilization',\n",
    "                       'basic_animation.mp4'), writer = FFwriter, fps=60, extra_args=['-vcodec', 'libx264'])\n",
    "\n",
    "#anim.save(os.path.join('C:/', 'Users/', 'Dito/', 'Documents','basic_animation.gif'), writer='ImageMagick-7.0.3-Q16', fps=30)"
   ]
  },
  {
   "cell_type": "code",
   "execution_count": null,
   "metadata": {
    "collapsed": true
   },
   "outputs": [],
   "source": []
  },
  {
   "cell_type": "code",
   "execution_count": null,
   "metadata": {
    "collapsed": true
   },
   "outputs": [],
   "source": []
  }
 ],
 "metadata": {
  "kernelspec": {
   "display_name": "Python 3",
   "language": "python",
   "name": "python3"
  },
  "language_info": {
   "codemirror_mode": {
    "name": "ipython",
    "version": 3
   },
   "file_extension": ".py",
   "mimetype": "text/x-python",
   "name": "python",
   "nbconvert_exporter": "python",
   "pygments_lexer": "ipython3",
   "version": "3.4.5"
  }
 },
 "nbformat": 4,
 "nbformat_minor": 0
}
